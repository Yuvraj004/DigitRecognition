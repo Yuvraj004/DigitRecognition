{
 "cells": [
  {
   "cell_type": "code",
   "execution_count": null,
   "metadata": {},
   "outputs": [],
   "source": [
    "import pandas as pd\n",
    "import numpy as np\n",
    "from sklearn import svm\n",
    "from sklearn import metrics\n",
    "import matplotlib.pyplot as plt\n",
    "import seaborn as sns; sns.set(font_scale=1.2)\n",
    "import tensorflow as tf"
   ]
  },
  {
   "cell_type": "code",
   "execution_count": null,
   "metadata": {},
   "outputs": [],
   "source": [
    "(X_train, y_train), (X_test, y_test) = tf.keras.datasets.mnist.load_data()\n",
    " \n",
    "plt.imshow(X_train[0], cmap='gray')\n",
    "plt.show()"
   ]
  },
  {
   "cell_type": "code",
   "execution_count": null,
   "metadata": {},
   "outputs": [],
   "source": [
    "print(X_train[0])"
   ]
  },
  {
   "cell_type": "code",
   "execution_count": null,
   "metadata": {},
   "outputs": [],
   "source": [
    "print(\"X_train shape\", X_train.shape)\n",
    "print(\"y_train shape\", y_train.shape)\n",
    "print(\"X_test shape\", X_test.shape)\n",
    "print(\"y_test shape\", y_test.shape)"
   ]
  },
  {
   "cell_type": "markdown",
   "metadata": {},
   "source": [
    "- we have a shape problem when we use fit function or predict using any model \n",
    "- the functions only accept 2 arguments\n",
    "- X: Training data of shape (n_samples, n_features)\n",
    "- And we have X_train as 3 dimensional therfore it has to be changed\n",
    "- We do this by converting the 2d array of ( 28x28) pixels into 1d array of 784 pixels "
   ]
  },
  {
   "cell_type": "code",
   "execution_count": null,
   "metadata": {},
   "outputs": [],
   "source": [
    "\n",
    "X_train = X_train.reshape(60000, 784)\n",
    "X_test = X_test.reshape(10000, 784)"
   ]
  },
  {
   "cell_type": "markdown",
   "metadata": {},
   "source": [
    "- We have 60000 data ,we need to reduce it\n",
    "\n",
    "- To avoid this, we are just going to use a portion of the dataset. So let's take the first 100 elements and use those instead."
   ]
  },
  {
   "cell_type": "code",
   "execution_count": null,
   "metadata": {},
   "outputs": [],
   "source": [
    "X_train_v1 = X_train[:100, :]\n",
    "y_train_v1 = y_train[:100]\n",
    "X_test = X_test[:100, :]\n",
    "y_test = y_test[:100]"
   ]
  },
  {
   "cell_type": "code",
   "execution_count": null,
   "metadata": {},
   "outputs": [],
   "source": [
    "print(\"X_train shape\", X_train_v1.shape)\n",
    "print(\"y_train shape\", y_train_v1.shape)\n",
    "print(\"X_test shape\", X_test.shape)\n",
    "print(\"y_test shape\", y_test.shape)"
   ]
  },
  {
   "cell_type": "markdown",
   "metadata": {},
   "source": [
    "- We can create our machine learning model and train it!\n",
    "\n",
    "- Create the support vector classification model using svm.SVC(). \n",
    "- Then fit the model with the X_train set and the y_train set."
   ]
  },
  {
   "cell_type": "code",
   "execution_count": null,
   "metadata": {},
   "outputs": [],
   "source": [
    "model = svm.SVC()\n",
    "model.fit(X_train_v1, y_train_v1)"
   ]
  },
  {
   "cell_type": "code",
   "execution_count": null,
   "metadata": {},
   "outputs": [],
   "source": [
    "y_pred_v1 = model.predict(X_test)\n",
    "indexToCompare = 6\n",
    " \n",
    "title = 'True: ' + str(y_test[indexToCompare]) + ', Prediction: ' + str(y_pred_v1[indexToCompare])\n",
    " \n",
    "plt.title(title)\n",
    "plt.imshow(X_test[indexToCompare].reshape(28,28), cmap='gray')\n",
    "plt.grid(None)\n",
    "plt.axis('off')\n",
    "plt.show()"
   ]
  },
  {
   "cell_type": "code",
   "execution_count": null,
   "metadata": {},
   "outputs": [],
   "source": [
    "acc = metrics.accuracy_score(y_test, y_pred_v1)\n",
    "print('\\nAccuracy: ', acc)"
   ]
  },
  {
   "cell_type": "markdown",
   "metadata": {},
   "source": [
    "- Problem with lack of accuracy :\n",
    " # The sample size"
   ]
  },
  {
   "cell_type": "markdown",
   "metadata": {},
   "source": [
    "- Let's see a ditribution of images for each digits in our sample using\n",
    "- Seaborn's pretty graph"
   ]
  },
  {
   "cell_type": "code",
   "execution_count": null,
   "metadata": {},
   "outputs": [],
   "source": [
    "digits = pd.DataFrame.from_dict(y_train)\n",
    " \n",
    "ax = sns.countplot(x=0, data=digits)\n",
    " \n",
    "ax.set_title(\"Distribution of Digit Images in Test Set\")\n",
    "ax.set(xlabel='Digit')\n",
    "ax.set(ylabel='Count')\n",
    " \n",
    "plt.show()"
   ]
  },
  {
   "cell_type": "markdown",
   "metadata": {},
   "source": [
    "- Using Confusion Matrix and heatmap to determine the accuracy of a classification model"
   ]
  },
  {
   "cell_type": "code",
   "execution_count": null,
   "metadata": {},
   "outputs": [],
   "source": [
    "from sklearn.metrics import ConfusionMatrixDisplay\n",
    "\n",
    "cm = metrics.confusion_matrix(y_test, y_pred_v1,labels=model.classes_)\n",
    "disp = ConfusionMatrixDisplay(confusion_matrix=cm,display_labels=model.classes_)           \n",
    "disp.plot()\n",
    "\n",
    "plt.show()\n"
   ]
  },
  {
   "cell_type": "markdown",
   "metadata": {},
   "source": [
    "# Heat Map"
   ]
  },
  {
   "cell_type": "code",
   "execution_count": null,
   "metadata": {},
   "outputs": [],
   "source": [
    "ax = plt.subplots(figsize=(9, 6))\n",
    " \n",
    "sns.heatmap(cm, annot=True)\n",
    " \n",
    "# ax.set_title(\"SVC Prediction Accuracy\") # type: ignore\n",
    "# ax.set_xlabel(\"Predicted Digit\") # type: ignore\n",
    "# ax.set_ylabel(\"True Digit\") # type: ignore\n",
    " \n",
    "plt.show()"
   ]
  },
  {
   "cell_type": "markdown",
   "metadata": {},
   "source": [
    "- Now we raise the no of samples to 500"
   ]
  },
  {
   "cell_type": "code",
   "execution_count": null,
   "metadata": {},
   "outputs": [],
   "source": [
    "X_train_v2 = X_train[:1000, :]\n",
    "y_train_v2 = y_train[:1000]\n",
    "X_test = X_test[:100, :]\n",
    "y_test = y_test[:100]\n",
    " \n",
    "model_v2 = svm.SVC()\n",
    "model_v2.fit(X_train_v2, y_train_v2)"
   ]
  },
  {
   "cell_type": "code",
   "execution_count": null,
   "metadata": {},
   "outputs": [],
   "source": [
    "y_pred_v2 = model_v2.predict(X_test)\n",
    "import matplotlib.pyplot as plt\n",
    "\n",
    "indexToCompare = 0\n",
    "plt.figure(figsize=(10, 10))  # Set the figure size for the entire grid\n",
    "\n",
    "for i in range(0, 9):\n",
    "    indexToCompare = indexToCompare + 1\n",
    "    \n",
    "    title = 'True: ' + str(y_test[indexToCompare]) + ', Prediction: ' + str(y_pred_v2[indexToCompare])\n",
    "    \n",
    "    plt.subplot(3, 3, i+1)  # 3 rows, 3 columns, i+1 is the index of the current subplot\n",
    "    plt.title(title)\n",
    "    plt.imshow(X_test[indexToCompare].reshape(28,28), cmap='gray')\n",
    "    plt.grid(None)\n",
    "    plt.axis('off')\n",
    "\n",
    "plt.tight_layout()  # Adjust spacing between subplots for a clean layout\n",
    "plt.show()\n",
    "\n",
    " \n"
   ]
  },
  {
   "cell_type": "code",
   "execution_count": null,
   "metadata": {},
   "outputs": [],
   "source": [
    "acc_v2 = metrics.accuracy_score(y_test, y_pred_v2)\n",
    "print('\\nAccuracy: ', acc_v2)"
   ]
  },
  {
   "cell_type": "code",
   "execution_count": null,
   "metadata": {},
   "outputs": [],
   "source": [
    "from sklearn.metrics import ConfusionMatrixDisplay\n",
    "\n",
    "cm = metrics.confusion_matrix(y_test, y_pred_v2,labels=model.classes_)\n",
    "disp = ConfusionMatrixDisplay(confusion_matrix=cm,display_labels=model.classes_)           \n",
    "disp.plot()\n",
    "\n",
    "plt.show()"
   ]
  },
  {
   "cell_type": "code",
   "execution_count": null,
   "metadata": {},
   "outputs": [],
   "source": []
  }
 ],
 "metadata": {
  "kernelspec": {
   "display_name": "Python 3",
   "language": "python",
   "name": "python3"
  },
  "language_info": {
   "codemirror_mode": {
    "name": "ipython",
    "version": 3
   },
   "file_extension": ".py",
   "mimetype": "text/x-python",
   "name": "python",
   "nbconvert_exporter": "python",
   "pygments_lexer": "ipython3",
   "version": "3.10.5"
  },
  "orig_nbformat": 4
 },
 "nbformat": 4,
 "nbformat_minor": 2
}
